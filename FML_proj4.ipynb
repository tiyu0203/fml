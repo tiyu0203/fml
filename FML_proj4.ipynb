{
  "nbformat": 4,
  "nbformat_minor": 0,
  "metadata": {
    "colab": {
      "name": "FML_proj4.ipynb",
      "provenance": [],
      "collapsed_sections": [],
      "include_colab_link": true
    },
    "kernelspec": {
      "name": "python3",
      "display_name": "Python 3"
    }
  },
  "cells": [
    {
      "cell_type": "markdown",
      "metadata": {
        "id": "view-in-github",
        "colab_type": "text"
      },
      "source": [
        "<a href=\"https://colab.research.google.com/github/tiyu0203/fml/blob/master/FML_proj4.ipynb\" target=\"_parent\"><img src=\"https://colab.research.google.com/assets/colab-badge.svg\" alt=\"Open In Colab\"/></a>"
      ]
    },
    {
      "cell_type": "markdown",
      "metadata": {
        "id": "1pCZNEzZJcm6"
      },
      "source": [
        "**Frequentist Machine Learning**\n",
        "\n",
        "**Assignment 4**\n",
        "\n",
        "**Jonathan Lam, Tiffany Yu, Harris Paspuleti**"
      ]
    },
    {
      "cell_type": "markdown",
      "metadata": {
        "id": "h7pPNJQtKGrh"
      },
      "source": [
        "---\n",
        "## Defining the Models using XGBoost"
      ]
    },
    {
      "cell_type": "code",
      "metadata": {
        "id": "_dC-WA3jUBQ7"
      },
      "source": [
        "#Setting up\n",
        "import numpy as np\n",
        "import pandas as pd\n",
        "import matplotlib.pyplot as plt\n",
        "import xgboost as xgb\n",
        "\n",
        "# sklearn utility functions for training\n",
        "from sklearn.model_selection import train_test_split\n",
        "from sklearn.preprocessing import StandardScaler\n",
        "from sklearn.model_selection import GridSearchCV\n",
        "\n",
        "class XGBoostClassifier:\n",
        "\n",
        "    def __init__(self, X, y, feature_names):\n",
        "\n",
        "        self.feature_names = feature_names\n",
        "\n",
        "        # split into test and training datasets\n",
        "        self.X_train, self.X_test, self.y_train, self.y_test = \\\n",
        "            train_test_split(X, y, \\\n",
        "                             test_size=0.2, \\\n",
        "                             random_state=np.random.randint(0, 100), \\\n",
        "                             shuffle=True)\n",
        "\n",
        "        # standardize features\n",
        "        self.X_train = StandardScaler().fit_transform(self.X_train)\n",
        "        self.X_test = StandardScaler().fit_transform(self.X_test)\n",
        "        \n",
        "        # turn into xgboost dmatrices\n",
        "        self.train_dm = xgb.DMatrix(pd.DataFrame(data=self.X_train, \\\n",
        "                                                 columns=feature_names), \\\n",
        "                                                 label=self.y_train)\n",
        "        self.test_dm = xgb.DMatrix(pd.DataFrame(data=self.X_test, \\\n",
        "                                                columns=feature_names), \\\n",
        "                                                label=self.y_test)\n",
        "\n",
        "    # train the model, and show evaluation statistics on the test dataset\n",
        "    def train_eval(self, num_rounds, parms):\n",
        "        eval_list = [(self.train_dm, 'train'), (self.test_dm, 'eval')]\n",
        "        xgb_classifier = xgb.XGBRegressor()\n",
        "        \n",
        "        # grid search to find the optimal parameters\n",
        "        xgb_grid = GridSearchCV(xgb_classifier,\n",
        "                                parms,\n",
        "                                cv=2,\n",
        "                                n_jobs=5,\n",
        "                                verbose=True)\n",
        "\n",
        "        xgb_grid.fit(self.X_train, self.y_train)\n",
        "        print(f'Best score from grid search: {xgb_grid.best_score_}')\n",
        "        print(f'Best parameters from grid search: {xgb_grid.best_score_}')\n",
        "        self.progress = {}        \n",
        "        self.xgb_classifier = xgb.train(xgb_grid.best_params_,\n",
        "                                        self.train_dm,\n",
        "                                        num_boost_round=num_rounds,\n",
        "                                        evals=eval_list,\n",
        "                                        evals_result=self.progress,\n",
        "                                        early_stopping_rounds=100)\n",
        "\n",
        "    # plot average absolute error vs. iterations; assumes model has \n",
        "    # already been trained\n",
        "    def plot_aae(self):\n",
        "        plt.plot(self.progress['train']['mae'])\n",
        "        plt.plot(self.progress['eval']['mae'])\n",
        "        plt.legend(['Train Error', 'Test Error'])\n",
        "        plt.title('Training and Test Absolute Error')\n",
        "        plt.ylim([0, 1])\n",
        "        plt.xlim([0, len(self.progress['train']['mae'])])\n",
        "        plt.ylabel('Absolute Error')\n",
        "        plt.xlabel('Iterations')\n",
        "        plt.show()\n",
        "\n",
        "    # plot relative importance plot; assumes model has already been trained\n",
        "    def plot_importance(self):\n",
        "        xgb.plot_importance(self.xgb_classifier)\n",
        "        plt.show()"
      ],
      "execution_count": null,
      "outputs": []
    },
    {
      "cell_type": "markdown",
      "metadata": {
        "id": "PCuDi8_DKt88"
      },
      "source": [
        "---\n",
        "## Running the Models"
      ]
    },
    {
      "cell_type": "markdown",
      "metadata": {
        "id": "ftDmPWj3J3yc"
      },
      "source": [
        "### California housing Datset\n",
        "\n",
        "\n",
        "> First, select one of the datasets from section 10.14 of the test(either California Housing or New Zealand Fish) and replicate the analysis, including the plots. You don't have to do the maps."
      ]
    },
    {
      "cell_type": "code",
      "metadata": {
        "id": "Mw0sGswgUL3n",
        "outputId": "2c81196c-9a64-4f48-b69a-01179407d03f",
        "colab": {
          "base_uri": "https://localhost:8080/",
          "height": 1000
        }
      },
      "source": [
        "# california housing dataset from sklearn\n",
        "from sklearn.datasets import fetch_california_housing\n",
        "cal_housing = fetch_california_housing()\n",
        "X = pd.DataFrame(cal_housing.data, columns=cal_housing.feature_names)\n",
        "y = cal_housing.target\n",
        "\n",
        "# create classifier\n",
        "classifier = XGBoostClassifier(X, y, cal_housing.feature_names)\n",
        "\n",
        "# train classifier\n",
        "parms = {\n",
        "    'nthread':        [4],\n",
        "    'objective':      ['reg:squarederror'], # textbook uses Huber loss;\n",
        "                                            # colab doesn't have newest xgboost\n",
        "                                            # so we just use reg:squarederror\n",
        "    'learning_rate':  [0.1, 0.3, 0.5],\n",
        "    'max_depth':      [5, 6, 7],\n",
        "    'n_estimators':   [100, 200],\n",
        "    'eval_metric':    ['mae'],              # mean absolute error\n",
        "}\n",
        "classifier.train_eval(800, parms)"
      ],
      "execution_count": null,
      "outputs": [
        {
          "output_type": "stream",
          "text": [
            "Fitting 2 folds for each of 18 candidates, totalling 36 fits\n"
          ],
          "name": "stdout"
        },
        {
          "output_type": "stream",
          "text": [
            "[Parallel(n_jobs=5)]: Using backend LokyBackend with 5 concurrent workers.\n",
            "[Parallel(n_jobs=5)]: Done  36 out of  36 | elapsed:   58.8s finished\n"
          ],
          "name": "stderr"
        },
        {
          "output_type": "stream",
          "text": [
            "Best score from grid search: 0.8255871582202914\n",
            "Best parameters from grid search: 0.8255871582202914\n",
            "[0]\ttrain-mae:1.41355\teval-mae:1.4289\n",
            "Multiple eval metrics have been passed: 'eval-mae' will be used for early stopping.\n",
            "\n",
            "Will train until eval-mae hasn't improved in 100 rounds.\n",
            "[1]\ttrain-mae:1.27506\teval-mae:1.29848\n",
            "[2]\ttrain-mae:1.15248\teval-mae:1.18075\n",
            "[3]\ttrain-mae:1.04369\teval-mae:1.07777\n",
            "[4]\ttrain-mae:0.948501\teval-mae:0.987476\n",
            "[5]\ttrain-mae:0.862609\teval-mae:0.907423\n",
            "[6]\ttrain-mae:0.787725\teval-mae:0.838907\n",
            "[7]\ttrain-mae:0.723328\teval-mae:0.778597\n",
            "[8]\ttrain-mae:0.666402\teval-mae:0.728005\n",
            "[9]\ttrain-mae:0.615871\teval-mae:0.682306\n",
            "[10]\ttrain-mae:0.572165\teval-mae:0.642676\n",
            "[11]\ttrain-mae:0.534386\teval-mae:0.609035\n",
            "[12]\ttrain-mae:0.502055\teval-mae:0.579536\n",
            "[13]\ttrain-mae:0.473284\teval-mae:0.553699\n",
            "[14]\ttrain-mae:0.448884\teval-mae:0.533653\n",
            "[15]\ttrain-mae:0.427828\teval-mae:0.515173\n",
            "[16]\ttrain-mae:0.410277\teval-mae:0.500721\n",
            "[17]\ttrain-mae:0.393812\teval-mae:0.487391\n",
            "[18]\ttrain-mae:0.380101\teval-mae:0.47442\n",
            "[19]\ttrain-mae:0.367959\teval-mae:0.46336\n",
            "[20]\ttrain-mae:0.35818\teval-mae:0.453486\n",
            "[21]\ttrain-mae:0.34953\teval-mae:0.446097\n",
            "[22]\ttrain-mae:0.341677\teval-mae:0.439612\n",
            "[23]\ttrain-mae:0.335056\teval-mae:0.433529\n",
            "[24]\ttrain-mae:0.329528\teval-mae:0.42957\n",
            "[25]\ttrain-mae:0.323944\teval-mae:0.425223\n",
            "[26]\ttrain-mae:0.319467\teval-mae:0.421828\n",
            "[27]\ttrain-mae:0.315038\teval-mae:0.418347\n",
            "[28]\ttrain-mae:0.311137\teval-mae:0.414774\n",
            "[29]\ttrain-mae:0.30623\teval-mae:0.410162\n",
            "[30]\ttrain-mae:0.300678\teval-mae:0.405005\n",
            "[31]\ttrain-mae:0.296468\teval-mae:0.401385\n",
            "[32]\ttrain-mae:0.29324\teval-mae:0.398287\n",
            "[33]\ttrain-mae:0.29006\teval-mae:0.396091\n",
            "[34]\ttrain-mae:0.28703\teval-mae:0.393445\n",
            "[35]\ttrain-mae:0.2844\teval-mae:0.391473\n",
            "[36]\ttrain-mae:0.282428\teval-mae:0.390303\n",
            "[37]\ttrain-mae:0.28065\teval-mae:0.389173\n",
            "[38]\ttrain-mae:0.278417\teval-mae:0.388027\n",
            "[39]\ttrain-mae:0.276667\teval-mae:0.387075\n",
            "[40]\ttrain-mae:0.274621\teval-mae:0.385464\n",
            "[41]\ttrain-mae:0.272536\teval-mae:0.384035\n",
            "[42]\ttrain-mae:0.271044\teval-mae:0.383907\n",
            "[43]\ttrain-mae:0.26994\teval-mae:0.383321\n",
            "[44]\ttrain-mae:0.268732\teval-mae:0.383175\n",
            "[45]\ttrain-mae:0.266941\teval-mae:0.382396\n",
            "[46]\ttrain-mae:0.265801\teval-mae:0.381978\n",
            "[47]\ttrain-mae:0.264533\teval-mae:0.381434\n",
            "[48]\ttrain-mae:0.263613\teval-mae:0.38092\n",
            "[49]\ttrain-mae:0.262367\teval-mae:0.380555\n",
            "[50]\ttrain-mae:0.261192\teval-mae:0.380259\n",
            "[51]\ttrain-mae:0.260318\teval-mae:0.37955\n",
            "[52]\ttrain-mae:0.259153\teval-mae:0.379492\n",
            "[53]\ttrain-mae:0.25762\teval-mae:0.378627\n",
            "[54]\ttrain-mae:0.256557\teval-mae:0.378189\n",
            "[55]\ttrain-mae:0.254415\teval-mae:0.37685\n",
            "[56]\ttrain-mae:0.253217\teval-mae:0.376574\n",
            "[57]\ttrain-mae:0.251857\teval-mae:0.375776\n",
            "[58]\ttrain-mae:0.250457\teval-mae:0.375572\n",
            "[59]\ttrain-mae:0.249611\teval-mae:0.375453\n",
            "[60]\ttrain-mae:0.248972\teval-mae:0.37547\n",
            "[61]\ttrain-mae:0.248389\teval-mae:0.375562\n",
            "[62]\ttrain-mae:0.247243\teval-mae:0.374701\n",
            "[63]\ttrain-mae:0.246837\teval-mae:0.374734\n",
            "[64]\ttrain-mae:0.245661\teval-mae:0.373655\n",
            "[65]\ttrain-mae:0.244971\teval-mae:0.373843\n",
            "[66]\ttrain-mae:0.244342\teval-mae:0.373701\n",
            "[67]\ttrain-mae:0.243166\teval-mae:0.373063\n",
            "[68]\ttrain-mae:0.242233\teval-mae:0.373077\n",
            "[69]\ttrain-mae:0.24164\teval-mae:0.373297\n",
            "[70]\ttrain-mae:0.240445\teval-mae:0.372333\n",
            "[71]\ttrain-mae:0.239391\teval-mae:0.37254\n",
            "[72]\ttrain-mae:0.238984\teval-mae:0.372548\n",
            "[73]\ttrain-mae:0.238485\teval-mae:0.372742\n",
            "[74]\ttrain-mae:0.237148\teval-mae:0.371601\n",
            "[75]\ttrain-mae:0.236114\teval-mae:0.371832\n",
            "[76]\ttrain-mae:0.235023\teval-mae:0.371462\n",
            "[77]\ttrain-mae:0.234225\teval-mae:0.371429\n",
            "[78]\ttrain-mae:0.233454\teval-mae:0.371521\n",
            "[79]\ttrain-mae:0.232427\teval-mae:0.371134\n",
            "[80]\ttrain-mae:0.231825\teval-mae:0.371043\n",
            "[81]\ttrain-mae:0.231215\teval-mae:0.37113\n",
            "[82]\ttrain-mae:0.230672\teval-mae:0.370842\n",
            "[83]\ttrain-mae:0.229795\teval-mae:0.370122\n",
            "[84]\ttrain-mae:0.228994\teval-mae:0.370062\n",
            "[85]\ttrain-mae:0.228417\teval-mae:0.369977\n",
            "[86]\ttrain-mae:0.227477\teval-mae:0.369122\n",
            "[87]\ttrain-mae:0.227049\teval-mae:0.369164\n",
            "[88]\ttrain-mae:0.226445\teval-mae:0.369297\n",
            "[89]\ttrain-mae:0.225738\teval-mae:0.368827\n",
            "[90]\ttrain-mae:0.225352\teval-mae:0.368829\n",
            "[91]\ttrain-mae:0.224512\teval-mae:0.368722\n",
            "[92]\ttrain-mae:0.223787\teval-mae:0.369025\n",
            "[93]\ttrain-mae:0.223343\teval-mae:0.369144\n",
            "[94]\ttrain-mae:0.222564\teval-mae:0.368795\n",
            "[95]\ttrain-mae:0.221794\teval-mae:0.368832\n",
            "[96]\ttrain-mae:0.220834\teval-mae:0.368277\n",
            "[97]\ttrain-mae:0.220088\teval-mae:0.368227\n",
            "[98]\ttrain-mae:0.219634\teval-mae:0.368487\n",
            "[99]\ttrain-mae:0.219095\teval-mae:0.368634\n",
            "[100]\ttrain-mae:0.218385\teval-mae:0.368652\n",
            "[101]\ttrain-mae:0.217918\teval-mae:0.36876\n",
            "[102]\ttrain-mae:0.217441\teval-mae:0.368438\n",
            "[103]\ttrain-mae:0.216953\teval-mae:0.368079\n",
            "[104]\ttrain-mae:0.216532\teval-mae:0.367905\n",
            "[105]\ttrain-mae:0.216159\teval-mae:0.368065\n",
            "[106]\ttrain-mae:0.215549\teval-mae:0.367982\n",
            "[107]\ttrain-mae:0.214995\teval-mae:0.36766\n",
            "[108]\ttrain-mae:0.214577\teval-mae:0.367678\n",
            "[109]\ttrain-mae:0.214047\teval-mae:0.367593\n",
            "[110]\ttrain-mae:0.213549\teval-mae:0.36737\n",
            "[111]\ttrain-mae:0.213062\teval-mae:0.367241\n",
            "[112]\ttrain-mae:0.212669\teval-mae:0.367301\n",
            "[113]\ttrain-mae:0.212432\teval-mae:0.367299\n",
            "[114]\ttrain-mae:0.211918\teval-mae:0.367043\n",
            "[115]\ttrain-mae:0.211111\teval-mae:0.366805\n",
            "[116]\ttrain-mae:0.210537\teval-mae:0.366702\n",
            "[117]\ttrain-mae:0.210162\teval-mae:0.366831\n",
            "[118]\ttrain-mae:0.209787\teval-mae:0.36683\n",
            "[119]\ttrain-mae:0.209345\teval-mae:0.366795\n",
            "[120]\ttrain-mae:0.208966\teval-mae:0.36682\n",
            "[121]\ttrain-mae:0.208495\teval-mae:0.366829\n",
            "[122]\ttrain-mae:0.207977\teval-mae:0.366473\n",
            "[123]\ttrain-mae:0.207206\teval-mae:0.365863\n",
            "[124]\ttrain-mae:0.206864\teval-mae:0.365864\n",
            "[125]\ttrain-mae:0.206532\teval-mae:0.366004\n",
            "[126]\ttrain-mae:0.206172\teval-mae:0.366014\n",
            "[127]\ttrain-mae:0.206019\teval-mae:0.365928\n",
            "[128]\ttrain-mae:0.20556\teval-mae:0.365654\n",
            "[129]\ttrain-mae:0.204896\teval-mae:0.365576\n",
            "[130]\ttrain-mae:0.204486\teval-mae:0.365521\n",
            "[131]\ttrain-mae:0.20406\teval-mae:0.365633\n",
            "[132]\ttrain-mae:0.203493\teval-mae:0.365146\n",
            "[133]\ttrain-mae:0.203181\teval-mae:0.365244\n",
            "[134]\ttrain-mae:0.202158\teval-mae:0.36466\n",
            "[135]\ttrain-mae:0.201789\teval-mae:0.364749\n",
            "[136]\ttrain-mae:0.201352\teval-mae:0.364887\n",
            "[137]\ttrain-mae:0.200749\teval-mae:0.364502\n",
            "[138]\ttrain-mae:0.20041\teval-mae:0.364595\n",
            "[139]\ttrain-mae:0.200243\teval-mae:0.364544\n",
            "[140]\ttrain-mae:0.199888\teval-mae:0.364493\n",
            "[141]\ttrain-mae:0.198811\teval-mae:0.363774\n",
            "[142]\ttrain-mae:0.198074\teval-mae:0.363534\n",
            "[143]\ttrain-mae:0.197792\teval-mae:0.363722\n",
            "[144]\ttrain-mae:0.197535\teval-mae:0.363823\n",
            "[145]\ttrain-mae:0.196892\teval-mae:0.363479\n",
            "[146]\ttrain-mae:0.196452\teval-mae:0.363372\n",
            "[147]\ttrain-mae:0.196108\teval-mae:0.3635\n",
            "[148]\ttrain-mae:0.195252\teval-mae:0.363055\n",
            "[149]\ttrain-mae:0.194994\teval-mae:0.36317\n",
            "[150]\ttrain-mae:0.194813\teval-mae:0.363152\n",
            "[151]\ttrain-mae:0.194557\teval-mae:0.36314\n",
            "[152]\ttrain-mae:0.194383\teval-mae:0.363237\n",
            "[153]\ttrain-mae:0.193971\teval-mae:0.362967\n",
            "[154]\ttrain-mae:0.193624\teval-mae:0.362866\n",
            "[155]\ttrain-mae:0.193277\teval-mae:0.363087\n",
            "[156]\ttrain-mae:0.192943\teval-mae:0.363049\n",
            "[157]\ttrain-mae:0.192581\teval-mae:0.363101\n",
            "[158]\ttrain-mae:0.19225\teval-mae:0.363115\n",
            "[159]\ttrain-mae:0.191765\teval-mae:0.362584\n",
            "[160]\ttrain-mae:0.191496\teval-mae:0.362606\n",
            "[161]\ttrain-mae:0.191201\teval-mae:0.362761\n",
            "[162]\ttrain-mae:0.190968\teval-mae:0.362867\n",
            "[163]\ttrain-mae:0.190314\teval-mae:0.362685\n",
            "[164]\ttrain-mae:0.18995\teval-mae:0.362633\n",
            "[165]\ttrain-mae:0.189853\teval-mae:0.362728\n",
            "[166]\ttrain-mae:0.18951\teval-mae:0.362702\n",
            "[167]\ttrain-mae:0.189273\teval-mae:0.362793\n",
            "[168]\ttrain-mae:0.188847\teval-mae:0.362756\n",
            "[169]\ttrain-mae:0.188203\teval-mae:0.362498\n",
            "[170]\ttrain-mae:0.187843\teval-mae:0.362474\n",
            "[171]\ttrain-mae:0.18759\teval-mae:0.362611\n",
            "[172]\ttrain-mae:0.187069\teval-mae:0.362472\n",
            "[173]\ttrain-mae:0.186307\teval-mae:0.362189\n",
            "[174]\ttrain-mae:0.186004\teval-mae:0.362144\n",
            "[175]\ttrain-mae:0.185676\teval-mae:0.362235\n",
            "[176]\ttrain-mae:0.185434\teval-mae:0.362297\n",
            "[177]\ttrain-mae:0.185219\teval-mae:0.362362\n",
            "[178]\ttrain-mae:0.185013\teval-mae:0.362513\n",
            "[179]\ttrain-mae:0.184391\teval-mae:0.362081\n",
            "[180]\ttrain-mae:0.184064\teval-mae:0.362126\n",
            "[181]\ttrain-mae:0.183476\teval-mae:0.3618\n",
            "[182]\ttrain-mae:0.183214\teval-mae:0.361886\n",
            "[183]\ttrain-mae:0.183012\teval-mae:0.361986\n",
            "[184]\ttrain-mae:0.182753\teval-mae:0.361872\n",
            "[185]\ttrain-mae:0.182559\teval-mae:0.361948\n",
            "[186]\ttrain-mae:0.181772\teval-mae:0.361684\n",
            "[187]\ttrain-mae:0.181509\teval-mae:0.361719\n",
            "[188]\ttrain-mae:0.180909\teval-mae:0.361738\n",
            "[189]\ttrain-mae:0.180563\teval-mae:0.361586\n",
            "[190]\ttrain-mae:0.180097\teval-mae:0.361641\n",
            "[191]\ttrain-mae:0.179586\teval-mae:0.361266\n",
            "[192]\ttrain-mae:0.179192\teval-mae:0.361511\n",
            "[193]\ttrain-mae:0.178728\teval-mae:0.361484\n",
            "[194]\ttrain-mae:0.178155\teval-mae:0.361502\n",
            "[195]\ttrain-mae:0.177719\teval-mae:0.361672\n",
            "[196]\ttrain-mae:0.177245\teval-mae:0.361618\n",
            "[197]\ttrain-mae:0.177069\teval-mae:0.361515\n",
            "[198]\ttrain-mae:0.176774\teval-mae:0.361567\n",
            "[199]\ttrain-mae:0.176499\teval-mae:0.361554\n",
            "[200]\ttrain-mae:0.17628\teval-mae:0.361619\n",
            "[201]\ttrain-mae:0.176102\teval-mae:0.361633\n",
            "[202]\ttrain-mae:0.175923\teval-mae:0.361713\n",
            "[203]\ttrain-mae:0.175708\teval-mae:0.361864\n",
            "[204]\ttrain-mae:0.175166\teval-mae:0.361752\n",
            "[205]\ttrain-mae:0.174802\teval-mae:0.361634\n",
            "[206]\ttrain-mae:0.174564\teval-mae:0.361723\n",
            "[207]\ttrain-mae:0.174319\teval-mae:0.361683\n",
            "[208]\ttrain-mae:0.174043\teval-mae:0.361737\n",
            "[209]\ttrain-mae:0.173789\teval-mae:0.361746\n",
            "[210]\ttrain-mae:0.172882\teval-mae:0.361224\n",
            "[211]\ttrain-mae:0.172628\teval-mae:0.361231\n",
            "[212]\ttrain-mae:0.172467\teval-mae:0.361158\n",
            "[213]\ttrain-mae:0.172097\teval-mae:0.361326\n",
            "[214]\ttrain-mae:0.171757\teval-mae:0.361351\n",
            "[215]\ttrain-mae:0.171309\teval-mae:0.361155\n",
            "[216]\ttrain-mae:0.171056\teval-mae:0.361069\n",
            "[217]\ttrain-mae:0.170849\teval-mae:0.361095\n",
            "[218]\ttrain-mae:0.170748\teval-mae:0.361124\n",
            "[219]\ttrain-mae:0.170469\teval-mae:0.36115\n",
            "[220]\ttrain-mae:0.169791\teval-mae:0.36074\n",
            "[221]\ttrain-mae:0.169504\teval-mae:0.3608\n",
            "[222]\ttrain-mae:0.169297\teval-mae:0.360886\n",
            "[223]\ttrain-mae:0.168765\teval-mae:0.360746\n",
            "[224]\ttrain-mae:0.168608\teval-mae:0.360759\n",
            "[225]\ttrain-mae:0.168473\teval-mae:0.360765\n",
            "[226]\ttrain-mae:0.168229\teval-mae:0.360787\n",
            "[227]\ttrain-mae:0.168025\teval-mae:0.360814\n",
            "[228]\ttrain-mae:0.16774\teval-mae:0.360756\n",
            "[229]\ttrain-mae:0.167511\teval-mae:0.360754\n",
            "[230]\ttrain-mae:0.167179\teval-mae:0.360847\n",
            "[231]\ttrain-mae:0.166751\teval-mae:0.360767\n",
            "[232]\ttrain-mae:0.166402\teval-mae:0.360531\n",
            "[233]\ttrain-mae:0.166182\teval-mae:0.360526\n",
            "[234]\ttrain-mae:0.165754\teval-mae:0.360474\n",
            "[235]\ttrain-mae:0.16556\teval-mae:0.360488\n",
            "[236]\ttrain-mae:0.165348\teval-mae:0.360472\n",
            "[237]\ttrain-mae:0.164958\teval-mae:0.360356\n",
            "[238]\ttrain-mae:0.164845\teval-mae:0.360347\n",
            "[239]\ttrain-mae:0.164653\teval-mae:0.360268\n",
            "[240]\ttrain-mae:0.164251\teval-mae:0.360179\n",
            "[241]\ttrain-mae:0.163809\teval-mae:0.359996\n",
            "[242]\ttrain-mae:0.163339\teval-mae:0.359996\n",
            "[243]\ttrain-mae:0.163228\teval-mae:0.360029\n",
            "[244]\ttrain-mae:0.162948\teval-mae:0.359995\n",
            "[245]\ttrain-mae:0.162648\teval-mae:0.359998\n",
            "[246]\ttrain-mae:0.16245\teval-mae:0.360002\n",
            "[247]\ttrain-mae:0.162168\teval-mae:0.359906\n",
            "[248]\ttrain-mae:0.161678\teval-mae:0.359876\n",
            "[249]\ttrain-mae:0.161352\teval-mae:0.359936\n",
            "[250]\ttrain-mae:0.160879\teval-mae:0.359639\n",
            "[251]\ttrain-mae:0.160678\teval-mae:0.359629\n",
            "[252]\ttrain-mae:0.16056\teval-mae:0.359647\n",
            "[253]\ttrain-mae:0.160387\teval-mae:0.359654\n",
            "[254]\ttrain-mae:0.160104\teval-mae:0.359693\n",
            "[255]\ttrain-mae:0.15972\teval-mae:0.359649\n",
            "[256]\ttrain-mae:0.159422\teval-mae:0.359736\n",
            "[257]\ttrain-mae:0.159316\teval-mae:0.359882\n",
            "[258]\ttrain-mae:0.158903\teval-mae:0.359802\n",
            "[259]\ttrain-mae:0.158707\teval-mae:0.359667\n",
            "[260]\ttrain-mae:0.158586\teval-mae:0.35974\n",
            "[261]\ttrain-mae:0.158223\teval-mae:0.359679\n",
            "[262]\ttrain-mae:0.157962\teval-mae:0.359721\n",
            "[263]\ttrain-mae:0.157564\teval-mae:0.359815\n",
            "[264]\ttrain-mae:0.157405\teval-mae:0.359894\n",
            "[265]\ttrain-mae:0.157128\teval-mae:0.359923\n",
            "[266]\ttrain-mae:0.156969\teval-mae:0.359976\n",
            "[267]\ttrain-mae:0.156778\teval-mae:0.359896\n",
            "[268]\ttrain-mae:0.156467\teval-mae:0.360017\n",
            "[269]\ttrain-mae:0.156029\teval-mae:0.360003\n",
            "[270]\ttrain-mae:0.155935\teval-mae:0.36\n",
            "[271]\ttrain-mae:0.155628\teval-mae:0.360015\n",
            "[272]\ttrain-mae:0.155306\teval-mae:0.359866\n",
            "[273]\ttrain-mae:0.155077\teval-mae:0.359907\n",
            "[274]\ttrain-mae:0.154798\teval-mae:0.359895\n",
            "[275]\ttrain-mae:0.154621\teval-mae:0.36002\n",
            "[276]\ttrain-mae:0.15457\teval-mae:0.360029\n",
            "[277]\ttrain-mae:0.154203\teval-mae:0.359982\n",
            "[278]\ttrain-mae:0.153824\teval-mae:0.360036\n",
            "[279]\ttrain-mae:0.153665\teval-mae:0.360004\n",
            "[280]\ttrain-mae:0.153349\teval-mae:0.359989\n",
            "[281]\ttrain-mae:0.153044\teval-mae:0.359806\n",
            "[282]\ttrain-mae:0.152759\teval-mae:0.359803\n",
            "[283]\ttrain-mae:0.152647\teval-mae:0.359847\n",
            "[284]\ttrain-mae:0.152454\teval-mae:0.359888\n",
            "[285]\ttrain-mae:0.152053\teval-mae:0.359889\n",
            "[286]\ttrain-mae:0.15182\teval-mae:0.359938\n",
            "[287]\ttrain-mae:0.151691\teval-mae:0.360066\n",
            "[288]\ttrain-mae:0.151356\teval-mae:0.360018\n",
            "[289]\ttrain-mae:0.151282\teval-mae:0.360099\n",
            "[290]\ttrain-mae:0.15111\teval-mae:0.360143\n",
            "[291]\ttrain-mae:0.15097\teval-mae:0.360225\n",
            "[292]\ttrain-mae:0.150602\teval-mae:0.360275\n",
            "[293]\ttrain-mae:0.15041\teval-mae:0.360259\n",
            "[294]\ttrain-mae:0.150285\teval-mae:0.36025\n",
            "[295]\ttrain-mae:0.15012\teval-mae:0.360348\n",
            "[296]\ttrain-mae:0.15003\teval-mae:0.360336\n",
            "[297]\ttrain-mae:0.149902\teval-mae:0.360385\n",
            "[298]\ttrain-mae:0.149594\teval-mae:0.360406\n",
            "[299]\ttrain-mae:0.149418\teval-mae:0.360408\n",
            "[300]\ttrain-mae:0.149051\teval-mae:0.360306\n",
            "[301]\ttrain-mae:0.148899\teval-mae:0.36032\n",
            "[302]\ttrain-mae:0.148706\teval-mae:0.360405\n",
            "[303]\ttrain-mae:0.148443\teval-mae:0.360403\n",
            "[304]\ttrain-mae:0.147989\teval-mae:0.360254\n",
            "[305]\ttrain-mae:0.147876\teval-mae:0.360261\n",
            "[306]\ttrain-mae:0.147784\teval-mae:0.360276\n",
            "[307]\ttrain-mae:0.147615\teval-mae:0.360232\n",
            "[308]\ttrain-mae:0.147428\teval-mae:0.360222\n",
            "[309]\ttrain-mae:0.147313\teval-mae:0.360214\n",
            "[310]\ttrain-mae:0.147171\teval-mae:0.360221\n",
            "[311]\ttrain-mae:0.147053\teval-mae:0.360163\n",
            "[312]\ttrain-mae:0.146871\teval-mae:0.360106\n",
            "[313]\ttrain-mae:0.146526\teval-mae:0.360033\n",
            "[314]\ttrain-mae:0.146322\teval-mae:0.360105\n",
            "[315]\ttrain-mae:0.146192\teval-mae:0.360098\n",
            "[316]\ttrain-mae:0.145942\teval-mae:0.36011\n",
            "[317]\ttrain-mae:0.145732\teval-mae:0.360095\n",
            "[318]\ttrain-mae:0.145438\teval-mae:0.360043\n",
            "[319]\ttrain-mae:0.145284\teval-mae:0.360018\n",
            "[320]\ttrain-mae:0.145018\teval-mae:0.35996\n",
            "[321]\ttrain-mae:0.144899\teval-mae:0.359967\n",
            "[322]\ttrain-mae:0.14465\teval-mae:0.359921\n",
            "[323]\ttrain-mae:0.14454\teval-mae:0.359951\n",
            "[324]\ttrain-mae:0.144271\teval-mae:0.359907\n",
            "[325]\ttrain-mae:0.144044\teval-mae:0.359899\n",
            "[326]\ttrain-mae:0.143914\teval-mae:0.359933\n",
            "[327]\ttrain-mae:0.143762\teval-mae:0.359956\n",
            "[328]\ttrain-mae:0.143568\teval-mae:0.360002\n",
            "[329]\ttrain-mae:0.143246\teval-mae:0.359985\n",
            "[330]\ttrain-mae:0.14314\teval-mae:0.359999\n",
            "[331]\ttrain-mae:0.143016\teval-mae:0.360026\n",
            "[332]\ttrain-mae:0.142883\teval-mae:0.360057\n",
            "[333]\ttrain-mae:0.142486\teval-mae:0.359902\n",
            "[334]\ttrain-mae:0.142256\teval-mae:0.359845\n",
            "[335]\ttrain-mae:0.142122\teval-mae:0.359885\n",
            "[336]\ttrain-mae:0.142045\teval-mae:0.359881\n",
            "[337]\ttrain-mae:0.141834\teval-mae:0.359805\n",
            "[338]\ttrain-mae:0.141532\teval-mae:0.359723\n",
            "[339]\ttrain-mae:0.141282\teval-mae:0.359695\n",
            "[340]\ttrain-mae:0.140954\teval-mae:0.359772\n",
            "[341]\ttrain-mae:0.140634\teval-mae:0.35981\n",
            "[342]\ttrain-mae:0.140405\teval-mae:0.360042\n",
            "[343]\ttrain-mae:0.140143\teval-mae:0.36004\n",
            "[344]\ttrain-mae:0.13996\teval-mae:0.360069\n",
            "[345]\ttrain-mae:0.13983\teval-mae:0.360159\n",
            "[346]\ttrain-mae:0.139562\teval-mae:0.360124\n",
            "[347]\ttrain-mae:0.139285\teval-mae:0.359989\n",
            "[348]\ttrain-mae:0.139144\teval-mae:0.360024\n",
            "[349]\ttrain-mae:0.13894\teval-mae:0.360049\n",
            "[350]\ttrain-mae:0.138753\teval-mae:0.360099\n",
            "[351]\ttrain-mae:0.138523\teval-mae:0.360041\n",
            "Stopping. Best iteration:\n",
            "[251]\ttrain-mae:0.160678\teval-mae:0.359629\n",
            "\n"
          ],
          "name": "stdout"
        }
      ]
    },
    {
      "cell_type": "code",
      "metadata": {
        "id": "aeGO9cmtCSLk",
        "outputId": "be8dbbce-b97f-4853-9a23-b31a5404cf90",
        "colab": {
          "base_uri": "https://localhost:8080/",
          "height": 295
        }
      },
      "source": [
        "# plot aae over iterations  \n",
        "classifier.plot_aae()"
      ],
      "execution_count": null,
      "outputs": [
        {
          "output_type": "display_data",
          "data": {
            "image/png": "[encoded data removed]",
            "text/plain": [
              "<Figure size 432x288 with 1 Axes>"
            ]
          },
          "metadata": {
            "tags": [],
            "needs_background": "light"
          }
        }
      ]
    },
    {
      "cell_type": "markdown",
      "metadata": {
        "id": "Gh0ttCUKLsYM"
      },
      "source": [
        "The graph above shows the absolute error as a function of number of iterations for the California housing data. The test error has a steep decrease in the beginning and then levels off to a constant error as the iterations increase (to around .32). Since the average absolute error levels to a constant, that means we wouldn't need to run that many iterations as long as it's not too small. For the training error, with more iterations the absolute error continues to decrease as there are more iterations. In order to minimize the absolute train error, we would have to increase the amount of iterations. We included early stopping for 100 rounds, which means it will continue to train until the eval-mae hasn't improved. Since we had about 800 iterations and the graph stopped at around 350, that means after 350 iterations the eval-mae stopped improving. "
      ]
    },
    {
      "cell_type": "code",
      "metadata": {
        "id": "b6sj0iCoCT1B",
        "outputId": "7da3b42d-7abc-43ae-fb90-135c6773a11b",
        "colab": {
          "base_uri": "https://localhost:8080/",
          "height": 295
        }
      },
      "source": [
        "# plot relative feature importance\n",
        "classifier.plot_importance()"
      ],
      "execution_count": null,
      "outputs": [
        {
          "output_type": "display_data",
          "data": {
            "image/png": "[encoded data removed]",
            "text/plain": [
              "<Figure size 432x288 with 1 Axes>"
            ]
          },
          "metadata": {
            "tags": [],
            "needs_background": "light"
          }
        }
      ]
    },
    {
      "cell_type": "markdown",
      "metadata": {
        "id": "iU5DCRC8Ltiz"
      },
      "source": [
        "The graph above shows the relative variable importances for each of the eight predictor variables. The feature with the largest bar is the feature that is the most relavant predictor, which is the median income in the california housing dataset. This would make sense because the amount of income a person has dictates how much they can afford and is one of the main deciding factors of buying a house. Average rooms, lattitude, average occupancy, and longitude have a little more than half of the relavancy as the median income, which means those features are some what influencial. Since average bedrooms, population, and house age have the least relavency that means they are less influential. Each feature is plotted by the F-score, which is a metric that sums up how many times each feature is split on. \n"
      ]
    },
    {
      "cell_type": "markdown",
      "metadata": {
        "id": "ra3oq8WaJ7YN"
      },
      "source": [
        "### Prostate Cancer Datset\n",
        "\n",
        "Next, select a dataset of your choice and perform a similar analysis. You can perform classification or regresssion, your choice. This should be a more complicated, and if you want, messier, dataset than the ones we've looked at so far. Use the built-in functions that come with the xgboost package to tune the model and optimize your performance, and determine the feature importance.  As this assignment is more focused on using a library, I will be expecting a more thoughtful analysis of the results."
      ]
    },
    {
      "cell_type": "code",
      "metadata": {
        "id": "2NC8LSG7UOpr",
        "outputId": "b2007195-cb40-4e92-9f16-2e16d7507526",
        "colab": {
          "base_uri": "https://localhost:8080/",
          "height": 1000
        }
      },
      "source": [
        "# dataset downloaded from kaggle:\n",
        "#info at https://web.stanford.edu/~hastie/ElemStatLearn/datasets/prostate.info.txt\n",
        "prostate_df = pd.read_csv('https://web.stanford.edu/~hastie/ElemStatLearn/datasets/prostate.data',\n",
        "                          delimiter='\\t',\n",
        "                          usecols=list(np.arange(0,10)), index_col=0)\n",
        "\n",
        "X = prostate_df.iloc[:,:8]\n",
        "y = prostate_df.iloc[:,8]\n",
        "cols = prostate_df.drop(columns='lpsa').columns\n",
        "\n",
        "# create classifier\n",
        "classifier = XGBoostClassifier(X, y, cols)\n",
        "\n",
        "# train classifier\n",
        "parms = {\n",
        "    'nthread':        [4],\n",
        "    'objective':      ['reg:squarederror'],\n",
        "    'learning_rate':  [0.1, 0.3, 0.5],\n",
        "    'max_depth':      [5, 6, 7],\n",
        "    'n_estimators':   [100, 200],\n",
        "    'eval_metric':    ['mae'],\n",
        "}\n",
        "classifier.train_eval(800, parms)"
      ],
      "execution_count": null,
      "outputs": [
        {
          "output_type": "stream",
          "text": [
            "Fitting 2 folds for each of 18 candidates, totalling 36 fits\n"
          ],
          "name": "stdout"
        },
        {
          "output_type": "stream",
          "text": [
            "[Parallel(n_jobs=5)]: Using backend LokyBackend with 5 concurrent workers.\n"
          ],
          "name": "stderr"
        },
        {
          "output_type": "stream",
          "text": [
            "Best score from grid search: 0.2160471358305293\n",
            "Best parameters from grid search: 0.2160471358305293\n",
            "[0]\ttrain-mae:1.11413\teval-mae:1.17446\n",
            "Multiple eval metrics have been passed: 'eval-mae' will be used for early stopping.\n",
            "\n",
            "Will train until eval-mae hasn't improved in 100 rounds.\n",
            "[1]\ttrain-mae:0.649131\teval-mae:0.838229\n",
            "[2]\ttrain-mae:0.392655\teval-mae:0.732274\n",
            "[3]\ttrain-mae:0.276623\teval-mae:0.71273\n",
            "[4]\ttrain-mae:0.199264\teval-mae:0.709028\n",
            "[5]\ttrain-mae:0.156691\teval-mae:0.731083\n",
            "[6]\ttrain-mae:0.125482\teval-mae:0.701102\n",
            "[7]\ttrain-mae:0.09729\teval-mae:0.704725\n",
            "[8]\ttrain-mae:0.073057\teval-mae:0.705814\n",
            "[9]\ttrain-mae:0.063983\teval-mae:0.701403\n",
            "[10]\ttrain-mae:0.056519\teval-mae:0.705187\n",
            "[11]\ttrain-mae:0.04763\teval-mae:0.6978\n",
            "[12]\ttrain-mae:0.037349\teval-mae:0.69685\n",
            "[13]\ttrain-mae:0.033738\teval-mae:0.696899\n",
            "[14]\ttrain-mae:0.026227\teval-mae:0.693622\n",
            "[15]\ttrain-mae:0.023187\teval-mae:0.693349\n",
            "[16]\ttrain-mae:0.019085\teval-mae:0.694894\n",
            "[17]\ttrain-mae:0.016421\teval-mae:0.696527\n",
            "[18]\ttrain-mae:0.013618\teval-mae:0.695389\n",
            "[19]\ttrain-mae:0.012471\teval-mae:0.695186\n"
          ],
          "name": "stdout"
        },
        {
          "output_type": "stream",
          "text": [
            "[Parallel(n_jobs=5)]: Done  36 out of  36 | elapsed:    3.3s finished\n"
          ],
          "name": "stderr"
        },
        {
          "output_type": "stream",
          "text": [
            "[20]\ttrain-mae:0.011494\teval-mae:0.695116\n",
            "[21]\ttrain-mae:0.009726\teval-mae:0.694292\n",
            "[22]\ttrain-mae:0.007585\teval-mae:0.695963\n",
            "[23]\ttrain-mae:0.006155\teval-mae:0.695878\n",
            "[24]\ttrain-mae:0.005161\teval-mae:0.696383\n",
            "[25]\ttrain-mae:0.00429\teval-mae:0.696002\n",
            "[26]\ttrain-mae:0.003896\teval-mae:0.696021\n",
            "[27]\ttrain-mae:0.003617\teval-mae:0.696297\n",
            "[28]\ttrain-mae:0.003245\teval-mae:0.696552\n",
            "[29]\ttrain-mae:0.002886\teval-mae:0.69676\n",
            "[30]\ttrain-mae:0.002621\teval-mae:0.696799\n",
            "[31]\ttrain-mae:0.002278\teval-mae:0.696976\n",
            "[32]\ttrain-mae:0.001871\teval-mae:0.697361\n",
            "[33]\ttrain-mae:0.001411\teval-mae:0.697242\n",
            "[34]\ttrain-mae:0.001298\teval-mae:0.697349\n",
            "[35]\ttrain-mae:0.001216\teval-mae:0.69735\n",
            "[36]\ttrain-mae:0.001041\teval-mae:0.697333\n",
            "[37]\ttrain-mae:0.000888\teval-mae:0.69721\n",
            "[38]\ttrain-mae:0.000796\teval-mae:0.697195\n",
            "[39]\ttrain-mae:0.000755\teval-mae:0.697176\n",
            "[40]\ttrain-mae:0.000755\teval-mae:0.697175\n",
            "[41]\ttrain-mae:0.000754\teval-mae:0.697175\n",
            "[42]\ttrain-mae:0.000754\teval-mae:0.697174\n",
            "[43]\ttrain-mae:0.000754\teval-mae:0.697174\n",
            "[44]\ttrain-mae:0.000754\teval-mae:0.697174\n",
            "[45]\ttrain-mae:0.000754\teval-mae:0.697174\n",
            "[46]\ttrain-mae:0.000754\teval-mae:0.697174\n",
            "[47]\ttrain-mae:0.000754\teval-mae:0.697174\n",
            "[48]\ttrain-mae:0.000754\teval-mae:0.697174\n",
            "[49]\ttrain-mae:0.000754\teval-mae:0.697174\n",
            "[50]\ttrain-mae:0.000754\teval-mae:0.697174\n",
            "[51]\ttrain-mae:0.000754\teval-mae:0.697174\n",
            "[52]\ttrain-mae:0.000754\teval-mae:0.697174\n",
            "[53]\ttrain-mae:0.000754\teval-mae:0.697174\n",
            "[54]\ttrain-mae:0.000754\teval-mae:0.697174\n",
            "[55]\ttrain-mae:0.000754\teval-mae:0.697174\n",
            "[56]\ttrain-mae:0.000754\teval-mae:0.697174\n",
            "[57]\ttrain-mae:0.000754\teval-mae:0.697174\n",
            "[58]\ttrain-mae:0.000754\teval-mae:0.697174\n",
            "[59]\ttrain-mae:0.000754\teval-mae:0.697174\n",
            "[60]\ttrain-mae:0.000754\teval-mae:0.697174\n",
            "[61]\ttrain-mae:0.000754\teval-mae:0.697174\n",
            "[62]\ttrain-mae:0.000754\teval-mae:0.697174\n",
            "[63]\ttrain-mae:0.000754\teval-mae:0.697174\n",
            "[64]\ttrain-mae:0.000754\teval-mae:0.697174\n",
            "[65]\ttrain-mae:0.000754\teval-mae:0.697174\n",
            "[66]\ttrain-mae:0.000754\teval-mae:0.697174\n",
            "[67]\ttrain-mae:0.000754\teval-mae:0.697174\n",
            "[68]\ttrain-mae:0.000754\teval-mae:0.697174\n",
            "[69]\ttrain-mae:0.000754\teval-mae:0.697174\n",
            "[70]\ttrain-mae:0.000754\teval-mae:0.697174\n",
            "[71]\ttrain-mae:0.000754\teval-mae:0.697174\n",
            "[72]\ttrain-mae:0.000754\teval-mae:0.697174\n",
            "[73]\ttrain-mae:0.000754\teval-mae:0.697174\n",
            "[74]\ttrain-mae:0.000754\teval-mae:0.697174\n",
            "[75]\ttrain-mae:0.000754\teval-mae:0.697174\n",
            "[76]\ttrain-mae:0.000754\teval-mae:0.697174\n",
            "[77]\ttrain-mae:0.000754\teval-mae:0.697174\n",
            "[78]\ttrain-mae:0.000754\teval-mae:0.697174\n",
            "[79]\ttrain-mae:0.000754\teval-mae:0.697174\n",
            "[80]\ttrain-mae:0.000754\teval-mae:0.697174\n",
            "[81]\ttrain-mae:0.000754\teval-mae:0.697174\n",
            "[82]\ttrain-mae:0.000754\teval-mae:0.697174\n",
            "[83]\ttrain-mae:0.000754\teval-mae:0.697174\n",
            "[84]\ttrain-mae:0.000754\teval-mae:0.697174\n",
            "[85]\ttrain-mae:0.000754\teval-mae:0.697174\n",
            "[86]\ttrain-mae:0.000754\teval-mae:0.697174\n",
            "[87]\ttrain-mae:0.000754\teval-mae:0.697174\n",
            "[88]\ttrain-mae:0.000754\teval-mae:0.697174\n",
            "[89]\ttrain-mae:0.000754\teval-mae:0.697174\n",
            "[90]\ttrain-mae:0.000754\teval-mae:0.697174\n",
            "[91]\ttrain-mae:0.000754\teval-mae:0.697174\n",
            "[92]\ttrain-mae:0.000754\teval-mae:0.697174\n",
            "[93]\ttrain-mae:0.000754\teval-mae:0.697174\n",
            "[94]\ttrain-mae:0.000754\teval-mae:0.697174\n",
            "[95]\ttrain-mae:0.000754\teval-mae:0.697174\n",
            "[96]\ttrain-mae:0.000754\teval-mae:0.697174\n",
            "[97]\ttrain-mae:0.000754\teval-mae:0.697174\n",
            "[98]\ttrain-mae:0.000754\teval-mae:0.697174\n",
            "[99]\ttrain-mae:0.000754\teval-mae:0.697174\n",
            "[100]\ttrain-mae:0.000754\teval-mae:0.697174\n",
            "[101]\ttrain-mae:0.000754\teval-mae:0.697174\n",
            "[102]\ttrain-mae:0.000754\teval-mae:0.697174\n",
            "[103]\ttrain-mae:0.000754\teval-mae:0.697174\n",
            "[104]\ttrain-mae:0.000754\teval-mae:0.697174\n",
            "[105]\ttrain-mae:0.000754\teval-mae:0.697174\n",
            "[106]\ttrain-mae:0.000754\teval-mae:0.697174\n",
            "[107]\ttrain-mae:0.000754\teval-mae:0.697174\n",
            "[108]\ttrain-mae:0.000754\teval-mae:0.697174\n",
            "[109]\ttrain-mae:0.000754\teval-mae:0.697174\n",
            "[110]\ttrain-mae:0.000754\teval-mae:0.697174\n",
            "[111]\ttrain-mae:0.000754\teval-mae:0.697174\n",
            "[112]\ttrain-mae:0.000754\teval-mae:0.697174\n",
            "[113]\ttrain-mae:0.000754\teval-mae:0.697174\n",
            "[114]\ttrain-mae:0.000754\teval-mae:0.697174\n",
            "[115]\ttrain-mae:0.000754\teval-mae:0.697174\n",
            "Stopping. Best iteration:\n",
            "[15]\ttrain-mae:0.023187\teval-mae:0.693349\n",
            "\n"
          ],
          "name": "stdout"
        }
      ]
    },
    {
      "cell_type": "code",
      "metadata": {
        "id": "b4QLNSYTCLbF",
        "outputId": "03b745c0-c1ed-4130-9326-6e115ebe1d55",
        "colab": {
          "base_uri": "https://localhost:8080/",
          "height": 295
        }
      },
      "source": [
        "# plot aae over iterations  \n",
        "classifier.plot_aae()"
      ],
      "execution_count": null,
      "outputs": [
        {
          "output_type": "display_data",
          "data": {
            "image/png": "[encoded data removed]",
            "text/plain": [
              "<Figure size 432x288 with 1 Axes>"
            ]
          },
          "metadata": {
            "tags": [],
            "needs_background": "light"
          }
        }
      ]
    },
    {
      "cell_type": "markdown",
      "metadata": {
        "id": "85jiVPrdxYvc"
      },
      "source": [
        "The graph above shows the absolute error as a function of number of iterations for the prostate dataset. The test error has a steep increase and a slight incrase in the beginning before leveling out to a constant error as the iterations increase (to around.697). Since the absolute error levels off to a constant, that means we don't need to run too many iterations. For the training error, unlike the california housing dataset, it has a steep decrease for the train absolute error and levels off near 0 as the iterations increase. So for botht the train and test absolute error, we don't need to run too many iterations. Early stopping rounds were used, which means it will train until eval-mae hasn't improved in 100 rounds. The amount of iterations were 800, since the graph only goes up to 100, that means after 100 iterations, eval-mae stopped improving. \n"
      ]
    },
    {
      "cell_type": "code",
      "metadata": {
        "id": "MWvvaNCBCMuy",
        "outputId": "90f530fa-d81b-49ca-c682-e2e39f6150a4",
        "colab": {
          "base_uri": "https://localhost:8080/",
          "height": 295
        }
      },
      "source": [
        "# plot relative feature importance\n",
        "classifier.plot_importance()"
      ],
      "execution_count": null,
      "outputs": [
        {
          "output_type": "display_data",
          "data": {
            "image/png": "[encoded data removed]",
            "text/plain": [
              "<Figure size 432x288 with 1 Axes>"
            ]
          },
          "metadata": {
            "tags": [],
            "needs_background": "light"
          }
        }
      ]
    },
    {
      "cell_type": "markdown",
      "metadata": {
        "id": "asWIuChgy08p"
      },
      "source": [
        "The graph above shows the relative variable importance for each of the eight predictor variables. The feature with the largest bar is the feature that is the most relavant predictor, which is lcavol. Lcavol is the log of cancer volume, which makes sense that a large amount of cancer volume would be a big indicator if a person has prostate cancer. The second highest feature is lweight, which is the log of the person's weight. The features with the least relavancy, which means those features have the least impact , were gleason and svi. Gleason is gleason score and svi is seminal veicle invasion. Each feature is plotted by the F-score, which is a metric that sums up how many times each feature is split on. \n"
      ]
    }
  ]
}